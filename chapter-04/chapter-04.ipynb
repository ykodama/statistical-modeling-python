{
 "cells": [
  {
   "cell_type": "code",
   "execution_count": 1,
   "metadata": {},
   "outputs": [],
   "source": [
    "import pandas as pd\n",
    "import matplotlib.pyplot as plt\n",
    "import numpy as np\n",
    "import scipy.stats as scs\n",
    "%matplotlib inline"
   ]
  },
  {
   "cell_type": "markdown",
   "metadata": {},
   "source": [
    "## deviance"
   ]
  },
  {
   "cell_type": "code",
   "execution_count": 3,
   "metadata": {},
   "outputs": [],
   "source": [
    "data = pd.read_csv(\"../chapter-03/data3a.csv\")"
   ]
  },
  {
   "cell_type": "code",
   "execution_count": 4,
   "metadata": {},
   "outputs": [
    {
     "name": "stderr",
     "output_type": "stream",
     "text": [
      "/Users/yukodama/work/statistical-modeling-python/venv/lib/python3.5/site-packages/statsmodels/compat/pandas.py:56: FutureWarning: The pandas.core.datetools module is deprecated and will be removed in a future version. Please use the pandas.tseries module instead.\n",
      "  from pandas.core import datetools\n"
     ]
    }
   ],
   "source": [
    "import statsmodels.api as sm\n",
    "import statsmodels.formula.api as smf"
   ]
  },
  {
   "cell_type": "code",
   "execution_count": 5,
   "metadata": {},
   "outputs": [],
   "source": [
    "model = smf.glm('y ~ x',data=data,family=sm.families.Poisson())"
   ]
  },
  {
   "cell_type": "code",
   "execution_count": 6,
   "metadata": {},
   "outputs": [],
   "source": [
    "result = model.fit()"
   ]
  },
  {
   "cell_type": "code",
   "execution_count": 7,
   "metadata": {},
   "outputs": [
    {
     "data": {
      "text/html": [
       "<table class=\"simpletable\">\n",
       "<caption>Generalized Linear Model Regression Results</caption>\n",
       "<tr>\n",
       "  <th>Dep. Variable:</th>          <td>y</td>        <th>  No. Observations:  </th>  <td>   100</td> \n",
       "</tr>\n",
       "<tr>\n",
       "  <th>Model:</th>                 <td>GLM</td>       <th>  Df Residuals:      </th>  <td>    98</td> \n",
       "</tr>\n",
       "<tr>\n",
       "  <th>Model Family:</th>        <td>Poisson</td>     <th>  Df Model:          </th>  <td>     1</td> \n",
       "</tr>\n",
       "<tr>\n",
       "  <th>Link Function:</th>         <td>log</td>       <th>  Scale:             </th>    <td>1.0</td>  \n",
       "</tr>\n",
       "<tr>\n",
       "  <th>Method:</th>               <td>IRLS</td>       <th>  Log-Likelihood:    </th> <td> -235.39</td>\n",
       "</tr>\n",
       "<tr>\n",
       "  <th>Date:</th>           <td>Wed, 04 Apr 2018</td> <th>  Deviance:          </th> <td>  84.993</td>\n",
       "</tr>\n",
       "<tr>\n",
       "  <th>Time:</th>               <td>10:50:59</td>     <th>  Pearson chi2:      </th>  <td>  83.8</td> \n",
       "</tr>\n",
       "<tr>\n",
       "  <th>No. Iterations:</th>         <td>4</td>        <th>                     </th>     <td> </td>   \n",
       "</tr>\n",
       "</table>\n",
       "<table class=\"simpletable\">\n",
       "<tr>\n",
       "      <td></td>         <th>coef</th>     <th>std err</th>      <th>z</th>      <th>P>|z|</th>  <th>[0.025</th>    <th>0.975]</th>  \n",
       "</tr>\n",
       "<tr>\n",
       "  <th>Intercept</th> <td>    1.2917</td> <td>    0.364</td> <td>    3.552</td> <td> 0.000</td> <td>    0.579</td> <td>    2.005</td>\n",
       "</tr>\n",
       "<tr>\n",
       "  <th>x</th>         <td>    0.0757</td> <td>    0.036</td> <td>    2.125</td> <td> 0.034</td> <td>    0.006</td> <td>    0.145</td>\n",
       "</tr>\n",
       "</table>"
      ],
      "text/plain": [
       "<class 'statsmodels.iolib.summary.Summary'>\n",
       "\"\"\"\n",
       "                 Generalized Linear Model Regression Results                  \n",
       "==============================================================================\n",
       "Dep. Variable:                      y   No. Observations:                  100\n",
       "Model:                            GLM   Df Residuals:                       98\n",
       "Model Family:                 Poisson   Df Model:                            1\n",
       "Link Function:                    log   Scale:                             1.0\n",
       "Method:                          IRLS   Log-Likelihood:                -235.39\n",
       "Date:                Wed, 04 Apr 2018   Deviance:                       84.993\n",
       "Time:                        10:50:59   Pearson chi2:                     83.8\n",
       "No. Iterations:                     4                                         \n",
       "==============================================================================\n",
       "                 coef    std err          z      P>|z|      [0.025      0.975]\n",
       "------------------------------------------------------------------------------\n",
       "Intercept      1.2917      0.364      3.552      0.000       0.579       2.005\n",
       "x              0.0757      0.036      2.125      0.034       0.006       0.145\n",
       "==============================================================================\n",
       "\"\"\""
      ]
     },
     "execution_count": 7,
     "metadata": {},
     "output_type": "execute_result"
    }
   ],
   "source": [
    "result.summary()"
   ]
  },
  {
   "cell_type": "code",
   "execution_count": 8,
   "metadata": {},
   "outputs": [],
   "source": [
    "dpois = lambda x:scs.poisson.logpmf(x, x)"
   ]
  },
  {
   "cell_type": "code",
   "execution_count": 9,
   "metadata": {},
   "outputs": [
    {
     "data": {
      "text/plain": [
       "0      6\n",
       "1      6\n",
       "2      6\n",
       "3     12\n",
       "4     10\n",
       "5      4\n",
       "6      9\n",
       "7      9\n",
       "8      9\n",
       "9     11\n",
       "10     6\n",
       "11    10\n",
       "12     6\n",
       "13    10\n",
       "14    11\n",
       "15     8\n",
       "16     3\n",
       "17     8\n",
       "18     5\n",
       "19     5\n",
       "20     4\n",
       "21    11\n",
       "22     5\n",
       "23    10\n",
       "24     6\n",
       "25     6\n",
       "26     7\n",
       "27     9\n",
       "28     3\n",
       "29    10\n",
       "      ..\n",
       "70    10\n",
       "71     8\n",
       "72     8\n",
       "73     7\n",
       "74     5\n",
       "75     6\n",
       "76     8\n",
       "77     9\n",
       "78     9\n",
       "79     6\n",
       "80     7\n",
       "81    10\n",
       "82     6\n",
       "83    11\n",
       "84    11\n",
       "85    11\n",
       "86     5\n",
       "87     6\n",
       "88     4\n",
       "89     5\n",
       "90     6\n",
       "91     5\n",
       "92     8\n",
       "93     5\n",
       "94     9\n",
       "95     8\n",
       "96     6\n",
       "97     8\n",
       "98     7\n",
       "99     9\n",
       "Name: y, Length: 100, dtype: int64"
      ]
     },
     "execution_count": 9,
     "metadata": {},
     "output_type": "execute_result"
    }
   ],
   "source": [
    "data.y"
   ]
  },
  {
   "cell_type": "code",
   "execution_count": 10,
   "metadata": {},
   "outputs": [
    {
     "data": {
      "text/plain": [
       "array([-1.8286944 , -1.8286944 , -1.8286944 , -2.1683347 , -2.07856164,\n",
       "       -1.63287639, -2.02680628, -2.02680628, -2.02680628, -2.12545985,\n",
       "       -1.8286944 , -2.07856164, -1.8286944 , -2.07856164, -2.12545985,\n",
       "       -1.96907057, -1.4959226 , -1.96907057, -1.74030218, -1.74030218,\n",
       "       -1.63287639, -2.12545985, -1.74030218, -2.07856164, -1.8286944 ,\n",
       "       -1.8286944 , -1.90379032, -2.02680628, -1.4959226 , -2.07856164,\n",
       "       -1.30685282, -2.02680628, -2.07856164, -1.74030218, -2.12545985,\n",
       "       -2.07856164, -1.63287639, -1.96907057, -2.02680628, -2.1683347 ,\n",
       "       -1.96907057, -2.02680628, -1.96907057, -1.8286944 , -1.8286944 ,\n",
       "       -2.07856164, -2.07856164, -2.02680628, -2.1683347 , -1.8286944 ,\n",
       "       -2.24441857, -1.8286944 , -1.90379032, -2.02680628, -1.8286944 ,\n",
       "       -1.90379032, -2.02680628, -2.20782221, -2.02680628, -2.20782221,\n",
       "       -1.90379032, -1.96907057, -2.07856164, -1.90379032, -2.1683347 ,\n",
       "       -1.8286944 , -2.27851837, -1.4959226 , -1.63287639, -1.8286944 ,\n",
       "       -2.07856164, -1.96907057, -1.96907057, -1.90379032, -1.74030218,\n",
       "       -1.8286944 , -1.96907057, -2.02680628, -2.02680628, -1.8286944 ,\n",
       "       -1.90379032, -2.07856164, -1.8286944 , -2.12545985, -2.12545985,\n",
       "       -2.12545985, -1.74030218, -1.8286944 , -1.63287639, -1.74030218,\n",
       "       -1.8286944 , -1.74030218, -1.96907057, -1.74030218, -2.02680628,\n",
       "       -1.96907057, -1.8286944 , -1.96907057, -1.90379032, -2.02680628])"
      ]
     },
     "execution_count": 10,
     "metadata": {},
     "output_type": "execute_result"
    }
   ],
   "source": [
    "dpois(data.y)"
   ]
  },
  {
   "cell_type": "code",
   "execution_count": 11,
   "metadata": {},
   "outputs": [
    {
     "data": {
      "text/plain": [
       "-192.8897525244958"
      ]
     },
     "execution_count": 11,
     "metadata": {},
     "output_type": "execute_result"
    }
   ],
   "source": [
    "max_logl = sum(dpois(data.y))\n",
    "max_logl"
   ]
  },
  {
   "cell_type": "code",
   "execution_count": 12,
   "metadata": {},
   "outputs": [
    {
     "data": {
      "text/plain": [
       "385.7795050489916"
      ]
     },
     "execution_count": 12,
     "metadata": {},
     "output_type": "execute_result"
    }
   ],
   "source": [
    "min_dev = sum(dpois(data.y)) * -2\n",
    "min_dev"
   ]
  },
  {
   "cell_type": "code",
   "execution_count": 13,
   "metadata": {},
   "outputs": [],
   "source": [
    "## null model\n",
    "model = smf.glm('y ~ 1',data=data,family=sm.families.Poisson())"
   ]
  },
  {
   "cell_type": "code",
   "execution_count": 14,
   "metadata": {},
   "outputs": [
    {
     "data": {
      "text/html": [
       "<table class=\"simpletable\">\n",
       "<caption>Generalized Linear Model Regression Results</caption>\n",
       "<tr>\n",
       "  <th>Dep. Variable:</th>          <td>y</td>        <th>  No. Observations:  </th>  <td>   100</td> \n",
       "</tr>\n",
       "<tr>\n",
       "  <th>Model:</th>                 <td>GLM</td>       <th>  Df Residuals:      </th>  <td>    99</td> \n",
       "</tr>\n",
       "<tr>\n",
       "  <th>Model Family:</th>        <td>Poisson</td>     <th>  Df Model:          </th>  <td>     0</td> \n",
       "</tr>\n",
       "<tr>\n",
       "  <th>Link Function:</th>         <td>log</td>       <th>  Scale:             </th>    <td>1.0</td>  \n",
       "</tr>\n",
       "<tr>\n",
       "  <th>Method:</th>               <td>IRLS</td>       <th>  Log-Likelihood:    </th> <td> -237.64</td>\n",
       "</tr>\n",
       "<tr>\n",
       "  <th>Date:</th>           <td>Wed, 04 Apr 2018</td> <th>  Deviance:          </th> <td>  89.507</td>\n",
       "</tr>\n",
       "<tr>\n",
       "  <th>Time:</th>               <td>10:52:05</td>     <th>  Pearson chi2:      </th>  <td>  87.1</td> \n",
       "</tr>\n",
       "<tr>\n",
       "  <th>No. Iterations:</th>         <td>4</td>        <th>                     </th>     <td> </td>   \n",
       "</tr>\n",
       "</table>\n",
       "<table class=\"simpletable\">\n",
       "<tr>\n",
       "      <td></td>         <th>coef</th>     <th>std err</th>      <th>z</th>      <th>P>|z|</th>  <th>[0.025</th>    <th>0.975]</th>  \n",
       "</tr>\n",
       "<tr>\n",
       "  <th>Intercept</th> <td>    2.0580</td> <td>    0.036</td> <td>   57.586</td> <td> 0.000</td> <td>    1.988</td> <td>    2.128</td>\n",
       "</tr>\n",
       "</table>"
      ],
      "text/plain": [
       "<class 'statsmodels.iolib.summary.Summary'>\n",
       "\"\"\"\n",
       "                 Generalized Linear Model Regression Results                  \n",
       "==============================================================================\n",
       "Dep. Variable:                      y   No. Observations:                  100\n",
       "Model:                            GLM   Df Residuals:                       99\n",
       "Model Family:                 Poisson   Df Model:                            0\n",
       "Link Function:                    log   Scale:                             1.0\n",
       "Method:                          IRLS   Log-Likelihood:                -237.64\n",
       "Date:                Wed, 04 Apr 2018   Deviance:                       89.507\n",
       "Time:                        10:52:05   Pearson chi2:                     87.1\n",
       "No. Iterations:                     4                                         \n",
       "==============================================================================\n",
       "                 coef    std err          z      P>|z|      [0.025      0.975]\n",
       "------------------------------------------------------------------------------\n",
       "Intercept      2.0580      0.036     57.586      0.000       1.988       2.128\n",
       "==============================================================================\n",
       "\"\"\""
      ]
     },
     "execution_count": 14,
     "metadata": {},
     "output_type": "execute_result"
    }
   ],
   "source": [
    "result = model.fit()\n",
    "result.summary()"
   ]
  }
 ],
 "metadata": {
  "kernelspec": {
   "display_name": "Python 3",
   "language": "python",
   "name": "python3"
  },
  "language_info": {
   "codemirror_mode": {
    "name": "ipython",
    "version": 3
   },
   "file_extension": ".py",
   "mimetype": "text/x-python",
   "name": "python",
   "nbconvert_exporter": "python",
   "pygments_lexer": "ipython3",
   "version": "3.5.2"
  }
 },
 "nbformat": 4,
 "nbformat_minor": 2
}
