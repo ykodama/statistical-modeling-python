{
 "cells": [
  {
   "cell_type": "code",
   "execution_count": 2,
   "metadata": {},
   "outputs": [],
   "source": [
    "import numpy as np\n",
    "import pandas as pd\n",
    "import matplotlib.pyplot as plt\n",
    "%matplotlib inline\n",
    "\n",
    "data_df = pd.read_csv(\"data7a.csv\")\n",
    "\n",
    "rng = np.random.RandomState(160)"
   ]
  },
  {
   "cell_type": "code",
   "execution_count": 3,
   "metadata": {},
   "outputs": [
    {
     "data": {
      "text/html": [
       "<div>\n",
       "<style scoped>\n",
       "    .dataframe tbody tr th:only-of-type {\n",
       "        vertical-align: middle;\n",
       "    }\n",
       "\n",
       "    .dataframe tbody tr th {\n",
       "        vertical-align: top;\n",
       "    }\n",
       "\n",
       "    .dataframe thead th {\n",
       "        text-align: right;\n",
       "    }\n",
       "</style>\n",
       "<table border=\"1\" class=\"dataframe\">\n",
       "  <thead>\n",
       "    <tr style=\"text-align: right;\">\n",
       "      <th></th>\n",
       "      <th>id</th>\n",
       "      <th>y</th>\n",
       "    </tr>\n",
       "  </thead>\n",
       "  <tbody>\n",
       "    <tr>\n",
       "      <th>0</th>\n",
       "      <td>1</td>\n",
       "      <td>0</td>\n",
       "    </tr>\n",
       "    <tr>\n",
       "      <th>1</th>\n",
       "      <td>2</td>\n",
       "      <td>2</td>\n",
       "    </tr>\n",
       "    <tr>\n",
       "      <th>2</th>\n",
       "      <td>3</td>\n",
       "      <td>7</td>\n",
       "    </tr>\n",
       "    <tr>\n",
       "      <th>3</th>\n",
       "      <td>4</td>\n",
       "      <td>8</td>\n",
       "    </tr>\n",
       "    <tr>\n",
       "      <th>4</th>\n",
       "      <td>5</td>\n",
       "      <td>1</td>\n",
       "    </tr>\n",
       "  </tbody>\n",
       "</table>\n",
       "</div>"
      ],
      "text/plain": [
       "   id  y\n",
       "0   1  0\n",
       "1   2  2\n",
       "2   3  7\n",
       "3   4  8\n",
       "4   5  1"
      ]
     },
     "execution_count": 3,
     "metadata": {},
     "output_type": "execute_result"
    }
   ],
   "source": [
    "data_df.head()"
   ]
  },
  {
   "cell_type": "code",
   "execution_count": 4,
   "metadata": {},
   "outputs": [
    {
     "data": {
      "text/plain": [
       "<matplotlib.legend.Legend at 0x10ff15860>"
      ]
     },
     "execution_count": 4,
     "metadata": {},
     "output_type": "execute_result"
    },
    {
     "data": {
      "image/png": "[encoded data removed]",
      "text/plain": [
       "<Figure size 432x288 with 1 Axes>"
      ]
     },
     "metadata": {},
     "output_type": "display_data"
    }
   ],
   "source": [
    "# 生起確率0.504で、8個取り出すのを100回繰り返し、リストに入れる。\n",
    "y_list = rng.binomial(8,0.504,100)\n",
    "\n",
    "plt.hist(data_df.y,bins=np.arange(10)-0.5,alpha=0.6,label=\"data\")\n",
    "plt.hist(y_list,bins=np.arange(10)-0.5,alpha=0.6,label=\"op=0.504\")\n",
    "plt.legend()"
   ]
  },
  {
   "cell_type": "code",
   "execution_count": 5,
   "metadata": {},
   "outputs": [],
   "source": [
    "model = \"\"\"\n",
    "data {\n",
    "    int<lower=0> N; //サンプルサイズ\n",
    "    int<lower=0> y[N];//生存数\n",
    "}\n",
    "\n",
    "parameters {\n",
    "    real beta;\n",
    "    real r[N];　//個体差\n",
    "    real <lower=0> s;　//個体差のばらつき\n",
    "}\n",
    "\n",
    "# trans-param では、data及びparametersで\n",
    "# 宣言されたパラメータと定数値から、\n",
    "# 新たにサンプリングする変数を作ることができる\n",
    "transformed parameters {\n",
    "    real q[N];\n",
    "    for (i in 1:N)\n",
    "        q[i] =inv_logit(beta+r[i]);\n",
    "}\n",
    "\n",
    "model {\n",
    "    for (i in 1:N)\n",
    "        y[i] ~ binomial(8,q[i]); //二項分布\n",
    "        \n",
    "    beta ~ normal(0, 100); //betaの事前分布は標準偏差100の正規分布\n",
    "    \n",
    "    for (i in 1:N)\n",
    "        r[i] ~ normal(0,s); // rの事前分布は標準偏差s\n",
    "    \n",
    "    s ~ uniform(0,10000); // sの事前分布は0<s<10000の一様分布\n",
    "}\n",
    "\"\"\""
   ]
  },
  {
   "cell_type": "code",
   "execution_count": 6,
   "metadata": {},
   "outputs": [],
   "source": [
    "y = data_df.y\n",
    "N = y.shape[0]\n",
    "\n",
    "# stanに辞書型でデータを引き渡す\n",
    "stan_data = {\"N\": N, \"y\": y}"
   ]
  },
  {
   "cell_type": "code",
   "execution_count": 7,
   "metadata": {},
   "outputs": [
    {
     "name": "stderr",
     "output_type": "stream",
     "text": [
      "INFO:pystan:COMPILING THE C++ CODE FOR MODEL anon_model_69663eb8116a7e68936a182abad0dcd9 NOW.\n"
     ]
    }
   ],
   "source": [
    "import pystan\n",
    "\n",
    "\n",
    "# MCMCサンプリングのステップ数\n",
    "iter_count= 1600\n",
    "\n",
    "# MCMCサンプリングの反復数の指定(WinBUGSではデフォルト3)\n",
    "chain_count = 3\n",
    "\n",
    "# MCMCサンプリングの最初の何ステップの結果を使わないとするか(burnin)\n",
    "warmup_count = 100\n",
    "\n",
    "# MCMCサンプリングのステップのうち、何個飛ばしでサンプリング結果を記録するか\n",
    "thin_count = 3\n",
    "\n",
    "fit = pystan.stan(model_code=model,\n",
    "                  data=stan_data,\n",
    "                  iter=iter_count,\n",
    "                  chains=chain_count,\n",
    "                  thin=thin_count,\n",
    "                  warmup=warmup_count)"
   ]
  },
  {
   "cell_type": "code",
   "execution_count": 8,
   "metadata": {},
   "outputs": [
    {
     "data": {
      "image/png": "[encoded data removed]",
      "text/plain": [
       "<Figure size 432x288 with 8 Axes>"
      ]
     },
     "metadata": {},
     "output_type": "display_data"
    }
   ],
   "source": [
    "fit.plot()\n",
    "plt.tight_layout()"
   ]
  },
  {
   "cell_type": "code",
   "execution_count": 9,
   "metadata": {},
   "outputs": [],
   "source": [
    "result = fit.extract()\n",
    "\n",
    "sample_df = pd.DataFrame()\n",
    "sample_df[\"beta\"] = result[\"beta\"]\n",
    "\n",
    "for i in range(result[\"r\"].shape[1]):\n",
    "    column_name = \"r\"+str(i+1)\n",
    "    sample_df[column_name] = result[\"r\"][:,i]\n",
    "    \n",
    "sample_df[\"s\"] = result[\"s\"]\n",
    "for i in range(result[\"q\"].shape[1]):\n",
    "    column_name = \"q\"+str(i+1)\n",
    "    sample_df[column_name] = result[\"q\"][:,i]"
   ]
  },
  {
   "cell_type": "code",
   "execution_count": 10,
   "metadata": {},
   "outputs": [
    {
     "data": {
      "text/html": [
       "<div>\n",
       "<style scoped>\n",
       "    .dataframe tbody tr th:only-of-type {\n",
       "        vertical-align: middle;\n",
       "    }\n",
       "\n",
       "    .dataframe tbody tr th {\n",
       "        vertical-align: top;\n",
       "    }\n",
       "\n",
       "    .dataframe thead th {\n",
       "        text-align: right;\n",
       "    }\n",
       "</style>\n",
       "<table border=\"1\" class=\"dataframe\">\n",
       "  <thead>\n",
       "    <tr style=\"text-align: right;\">\n",
       "      <th></th>\n",
       "      <th>beta</th>\n",
       "      <th>r1</th>\n",
       "      <th>r2</th>\n",
       "      <th>r3</th>\n",
       "      <th>r4</th>\n",
       "      <th>r5</th>\n",
       "      <th>r6</th>\n",
       "      <th>r7</th>\n",
       "      <th>r8</th>\n",
       "      <th>r9</th>\n",
       "      <th>...</th>\n",
       "      <th>q91</th>\n",
       "      <th>q92</th>\n",
       "      <th>q93</th>\n",
       "      <th>q94</th>\n",
       "      <th>q95</th>\n",
       "      <th>q96</th>\n",
       "      <th>q97</th>\n",
       "      <th>q98</th>\n",
       "      <th>q99</th>\n",
       "      <th>q100</th>\n",
       "    </tr>\n",
       "  </thead>\n",
       "  <tbody>\n",
       "    <tr>\n",
       "      <th>0</th>\n",
       "      <td>0.117921</td>\n",
       "      <td>-4.324123</td>\n",
       "      <td>-0.509399</td>\n",
       "      <td>1.826308</td>\n",
       "      <td>0.638806</td>\n",
       "      <td>-2.058722</td>\n",
       "      <td>1.933169</td>\n",
       "      <td>2.746580</td>\n",
       "      <td>5.032424</td>\n",
       "      <td>-3.855157</td>\n",
       "      <td>...</td>\n",
       "      <td>0.819267</td>\n",
       "      <td>0.545710</td>\n",
       "      <td>0.999150</td>\n",
       "      <td>0.517496</td>\n",
       "      <td>0.741258</td>\n",
       "      <td>0.226464</td>\n",
       "      <td>0.007870</td>\n",
       "      <td>0.600602</td>\n",
       "      <td>0.839680</td>\n",
       "      <td>0.004642</td>\n",
       "    </tr>\n",
       "    <tr>\n",
       "      <th>1</th>\n",
       "      <td>0.207710</td>\n",
       "      <td>-4.343702</td>\n",
       "      <td>-1.305982</td>\n",
       "      <td>2.060028</td>\n",
       "      <td>3.364046</td>\n",
       "      <td>-2.700345</td>\n",
       "      <td>3.508382</td>\n",
       "      <td>3.733024</td>\n",
       "      <td>3.330818</td>\n",
       "      <td>-2.956070</td>\n",
       "      <td>...</td>\n",
       "      <td>0.529222</td>\n",
       "      <td>0.166902</td>\n",
       "      <td>0.889628</td>\n",
       "      <td>0.816370</td>\n",
       "      <td>0.873382</td>\n",
       "      <td>0.194970</td>\n",
       "      <td>0.033683</td>\n",
       "      <td>0.737196</td>\n",
       "      <td>0.845672</td>\n",
       "      <td>0.007475</td>\n",
       "    </tr>\n",
       "    <tr>\n",
       "      <th>2</th>\n",
       "      <td>-0.209659</td>\n",
       "      <td>-3.123307</td>\n",
       "      <td>-1.734358</td>\n",
       "      <td>2.333079</td>\n",
       "      <td>1.862704</td>\n",
       "      <td>-2.495485</td>\n",
       "      <td>4.665504</td>\n",
       "      <td>2.582539</td>\n",
       "      <td>5.561878</td>\n",
       "      <td>-1.668303</td>\n",
       "      <td>...</td>\n",
       "      <td>0.643080</td>\n",
       "      <td>0.205583</td>\n",
       "      <td>0.977903</td>\n",
       "      <td>0.878731</td>\n",
       "      <td>0.438161</td>\n",
       "      <td>0.054673</td>\n",
       "      <td>0.040900</td>\n",
       "      <td>0.434207</td>\n",
       "      <td>0.995190</td>\n",
       "      <td>0.012947</td>\n",
       "    </tr>\n",
       "    <tr>\n",
       "      <th>3</th>\n",
       "      <td>-0.059061</td>\n",
       "      <td>-4.865750</td>\n",
       "      <td>-1.681882</td>\n",
       "      <td>1.454749</td>\n",
       "      <td>3.792406</td>\n",
       "      <td>-1.172542</td>\n",
       "      <td>3.319530</td>\n",
       "      <td>2.286819</td>\n",
       "      <td>3.198405</td>\n",
       "      <td>-1.799100</td>\n",
       "      <td>...</td>\n",
       "      <td>0.792321</td>\n",
       "      <td>0.328279</td>\n",
       "      <td>0.998923</td>\n",
       "      <td>0.552675</td>\n",
       "      <td>0.493298</td>\n",
       "      <td>0.431278</td>\n",
       "      <td>0.015210</td>\n",
       "      <td>0.557541</td>\n",
       "      <td>0.960831</td>\n",
       "      <td>0.005543</td>\n",
       "    </tr>\n",
       "    <tr>\n",
       "      <th>4</th>\n",
       "      <td>-0.414016</td>\n",
       "      <td>-2.576890</td>\n",
       "      <td>-1.325936</td>\n",
       "      <td>1.938059</td>\n",
       "      <td>2.243704</td>\n",
       "      <td>-2.144751</td>\n",
       "      <td>3.067206</td>\n",
       "      <td>1.969793</td>\n",
       "      <td>3.373649</td>\n",
       "      <td>-0.735205</td>\n",
       "      <td>...</td>\n",
       "      <td>0.605298</td>\n",
       "      <td>0.505634</td>\n",
       "      <td>0.969980</td>\n",
       "      <td>0.881163</td>\n",
       "      <td>0.813645</td>\n",
       "      <td>0.337932</td>\n",
       "      <td>0.029135</td>\n",
       "      <td>0.461461</td>\n",
       "      <td>0.982330</td>\n",
       "      <td>0.001330</td>\n",
       "    </tr>\n",
       "  </tbody>\n",
       "</table>\n",
       "<p>5 rows × 202 columns</p>\n",
       "</div>"
      ],
      "text/plain": [
       "       beta        r1        r2        r3        r4        r5        r6  \\\n",
       "0  0.117921 -4.324123 -0.509399  1.826308  0.638806 -2.058722  1.933169   \n",
       "1  0.207710 -4.343702 -1.305982  2.060028  3.364046 -2.700345  3.508382   \n",
       "2 -0.209659 -3.123307 -1.734358  2.333079  1.862704 -2.495485  4.665504   \n",
       "3 -0.059061 -4.865750 -1.681882  1.454749  3.792406 -1.172542  3.319530   \n",
       "4 -0.414016 -2.576890 -1.325936  1.938059  2.243704 -2.144751  3.067206   \n",
       "\n",
       "         r7        r8        r9    ...          q91       q92       q93  \\\n",
       "0  2.746580  5.032424 -3.855157    ...     0.819267  0.545710  0.999150   \n",
       "1  3.733024  3.330818 -2.956070    ...     0.529222  0.166902  0.889628   \n",
       "2  2.582539  5.561878 -1.668303    ...     0.643080  0.205583  0.977903   \n",
       "3  2.286819  3.198405 -1.799100    ...     0.792321  0.328279  0.998923   \n",
       "4  1.969793  3.373649 -0.735205    ...     0.605298  0.505634  0.969980   \n",
       "\n",
       "        q94       q95       q96       q97       q98       q99      q100  \n",
       "0  0.517496  0.741258  0.226464  0.007870  0.600602  0.839680  0.004642  \n",
       "1  0.816370  0.873382  0.194970  0.033683  0.737196  0.845672  0.007475  \n",
       "2  0.878731  0.438161  0.054673  0.040900  0.434207  0.995190  0.012947  \n",
       "3  0.552675  0.493298  0.431278  0.015210  0.557541  0.960831  0.005543  \n",
       "4  0.881163  0.813645  0.337932  0.029135  0.461461  0.982330  0.001330  \n",
       "\n",
       "[5 rows x 202 columns]"
      ]
     },
     "execution_count": 10,
     "metadata": {},
     "output_type": "execute_result"
    }
   ],
   "source": [
    "sample_df.head()"
   ]
  },
  {
   "cell_type": "code",
   "execution_count": 11,
   "metadata": {},
   "outputs": [
    {
     "data": {
      "image/png": "[encoded data removed]",
      "text/plain": [
       "<Figure size 432x288 with 1 Axes>"
      ]
     },
     "metadata": {},
     "output_type": "display_data"
    }
   ],
   "source": [
    "plt.hist(sample_df.beta,bins=np.linspace(-10,10,200))\n",
    "plt.show()"
   ]
  },
  {
   "cell_type": "code",
   "execution_count": 12,
   "metadata": {},
   "outputs": [
    {
     "data": {
      "image/png": "[encoded data removed]",
      "text/plain": [
       "<Figure size 432x288 with 1 Axes>"
      ]
     },
     "metadata": {},
     "output_type": "display_data"
    }
   ],
   "source": [
    "plt.hist(sample_df.beta,bins=np.linspace(-10,10,200))\n",
    "plt.show()"
   ]
  },
  {
   "cell_type": "code",
   "execution_count": 13,
   "metadata": {},
   "outputs": [
    {
     "data": {
      "image/png": "[encoded data removed]",
      "text/plain": [
       "<Figure size 432x288 with 1 Axes>"
      ]
     },
     "metadata": {},
     "output_type": "display_data"
    }
   ],
   "source": [
    "plt.hist(sample_df.s,bins=np.linspace(-10,10,200))\n",
    "plt.show()"
   ]
  },
  {
   "cell_type": "code",
   "execution_count": 14,
   "metadata": {},
   "outputs": [
    {
     "data": {
      "image/png": "[encoded data removed]",
      "text/plain": [
       "<Figure size 432x288 with 2 Axes>"
      ]
     },
     "metadata": {},
     "output_type": "display_data"
    }
   ],
   "source": [
    "fig,ax1 = plt.subplots()\n",
    "ax1.hist(sample_df.r1,bins=np.linspace(-10,10,200))\n",
    "\n",
    "# sが事後分布の中央値である場合の事前分布\n",
    "ax2 = ax1.twinx()\n",
    "\n",
    "smedian = sample_df.s.median()\n",
    "\n",
    "x = np.linspace(-10,10,2000)\n",
    "y = (1.0/np.sqrt(2*np.pi*(smedian**2))) * np.exp(-(x**2)/(2*(smedian**2)))\n",
    "ax2.plot(x,y,\"orange\",label=\"Normal(0,smedian)\")\n",
    "ax2.set(ylim=(0,1))\n",
    "\n",
    "plt.legend()\n",
    "plt.show()"
   ]
  },
  {
   "cell_type": "code",
   "execution_count": 16,
   "metadata": {},
   "outputs": [],
   "source": [
    "# 個体差　+ 場所差\n",
    "kb_df = pd.read_csv(\"./d1.csv\",dtype={\"pot\":\"category\",\"f\":\"category\"})"
   ]
  },
  {
   "cell_type": "code",
   "execution_count": 17,
   "metadata": {},
   "outputs": [
    {
     "data": {
      "text/html": [
       "<div>\n",
       "<style scoped>\n",
       "    .dataframe tbody tr th:only-of-type {\n",
       "        vertical-align: middle;\n",
       "    }\n",
       "\n",
       "    .dataframe tbody tr th {\n",
       "        vertical-align: top;\n",
       "    }\n",
       "\n",
       "    .dataframe thead th {\n",
       "        text-align: right;\n",
       "    }\n",
       "</style>\n",
       "<table border=\"1\" class=\"dataframe\">\n",
       "  <thead>\n",
       "    <tr style=\"text-align: right;\">\n",
       "      <th></th>\n",
       "      <th>id</th>\n",
       "      <th>pot</th>\n",
       "      <th>f</th>\n",
       "      <th>y</th>\n",
       "    </tr>\n",
       "  </thead>\n",
       "  <tbody>\n",
       "    <tr>\n",
       "      <th>0</th>\n",
       "      <td>1</td>\n",
       "      <td>A</td>\n",
       "      <td>C</td>\n",
       "      <td>6</td>\n",
       "    </tr>\n",
       "    <tr>\n",
       "      <th>1</th>\n",
       "      <td>2</td>\n",
       "      <td>A</td>\n",
       "      <td>C</td>\n",
       "      <td>3</td>\n",
       "    </tr>\n",
       "    <tr>\n",
       "      <th>2</th>\n",
       "      <td>3</td>\n",
       "      <td>A</td>\n",
       "      <td>C</td>\n",
       "      <td>19</td>\n",
       "    </tr>\n",
       "    <tr>\n",
       "      <th>3</th>\n",
       "      <td>4</td>\n",
       "      <td>A</td>\n",
       "      <td>C</td>\n",
       "      <td>5</td>\n",
       "    </tr>\n",
       "    <tr>\n",
       "      <th>4</th>\n",
       "      <td>5</td>\n",
       "      <td>A</td>\n",
       "      <td>C</td>\n",
       "      <td>0</td>\n",
       "    </tr>\n",
       "  </tbody>\n",
       "</table>\n",
       "</div>"
      ],
      "text/plain": [
       "   id pot  f   y\n",
       "0   1   A  C   6\n",
       "1   2   A  C   3\n",
       "2   3   A  C  19\n",
       "3   4   A  C   5\n",
       "4   5   A  C   0"
      ]
     },
     "execution_count": 17,
     "metadata": {},
     "output_type": "execute_result"
    }
   ],
   "source": [
    "kb_df.head()"
   ]
  },
  {
   "cell_type": "code",
   "execution_count": 18,
   "metadata": {},
   "outputs": [
    {
     "data": {
      "text/html": [
       "<div>\n",
       "<style scoped>\n",
       "    .dataframe tbody tr th:only-of-type {\n",
       "        vertical-align: middle;\n",
       "    }\n",
       "\n",
       "    .dataframe tbody tr th {\n",
       "        vertical-align: top;\n",
       "    }\n",
       "\n",
       "    .dataframe thead th {\n",
       "        text-align: right;\n",
       "    }\n",
       "</style>\n",
       "<table border=\"1\" class=\"dataframe\">\n",
       "  <thead>\n",
       "    <tr style=\"text-align: right;\">\n",
       "      <th></th>\n",
       "      <th>id</th>\n",
       "      <th>y</th>\n",
       "    </tr>\n",
       "  </thead>\n",
       "  <tbody>\n",
       "    <tr>\n",
       "      <th>count</th>\n",
       "      <td>50.00000</td>\n",
       "      <td>50.000000</td>\n",
       "    </tr>\n",
       "    <tr>\n",
       "      <th>mean</th>\n",
       "      <td>25.50000</td>\n",
       "      <td>6.640000</td>\n",
       "    </tr>\n",
       "    <tr>\n",
       "      <th>std</th>\n",
       "      <td>14.57738</td>\n",
       "      <td>7.227386</td>\n",
       "    </tr>\n",
       "    <tr>\n",
       "      <th>min</th>\n",
       "      <td>1.00000</td>\n",
       "      <td>0.000000</td>\n",
       "    </tr>\n",
       "    <tr>\n",
       "      <th>25%</th>\n",
       "      <td>13.25000</td>\n",
       "      <td>2.000000</td>\n",
       "    </tr>\n",
       "    <tr>\n",
       "      <th>50%</th>\n",
       "      <td>25.50000</td>\n",
       "      <td>4.000000</td>\n",
       "    </tr>\n",
       "    <tr>\n",
       "      <th>75%</th>\n",
       "      <td>37.75000</td>\n",
       "      <td>8.000000</td>\n",
       "    </tr>\n",
       "    <tr>\n",
       "      <th>max</th>\n",
       "      <td>50.00000</td>\n",
       "      <td>29.000000</td>\n",
       "    </tr>\n",
       "  </tbody>\n",
       "</table>\n",
       "</div>"
      ],
      "text/plain": [
       "             id          y\n",
       "count  50.00000  50.000000\n",
       "mean   25.50000   6.640000\n",
       "std    14.57738   7.227386\n",
       "min     1.00000   0.000000\n",
       "25%    13.25000   2.000000\n",
       "50%    25.50000   4.000000\n",
       "75%    37.75000   8.000000\n",
       "max    50.00000  29.000000"
      ]
     },
     "execution_count": 18,
     "metadata": {},
     "output_type": "execute_result"
    }
   ],
   "source": [
    "kb_df[:50].describe()"
   ]
  },
  {
   "cell_type": "code",
   "execution_count": 19,
   "metadata": {},
   "outputs": [
    {
     "data": {
      "text/plain": [
       "[<matplotlib.lines.Line2D at 0x113ecca90>]"
      ]
     },
     "execution_count": 19,
     "metadata": {},
     "output_type": "execute_result"
    },
    {
     "data": {
      "image/png": "[encoded data removed]",
      "text/plain": [
       "<Figure size 432x288 with 1 Axes>"
      ]
     },
     "metadata": {},
     "output_type": "display_data"
    }
   ],
   "source": [
    "plt.bar(kb_df.id,kb_df.y)\n",
    "\n",
    "mean_c = kb_df[kb_df.f.cat.codes==0].y.mean()\n",
    "mean_t = kb_df[kb_df.f.cat.codes==1].y.mean()\n",
    "\n",
    "plt.plot(np.arange(50),[mean_c]*50,\"r--\")\n",
    "plt.plot(np.arange(50,100),[mean_t]*50,\"g--\")"
   ]
  },
  {
   "cell_type": "code",
   "execution_count": 20,
   "metadata": {},
   "outputs": [
    {
     "name": "stdout",
     "output_type": "stream",
     "text": [
      "6.64\n"
     ]
    }
   ],
   "source": [
    "print(mean_c)"
   ]
  },
  {
   "cell_type": "code",
   "execution_count": 21,
   "metadata": {},
   "outputs": [
    {
     "data": {
      "text/plain": [
       "2.5768197453450252"
      ]
     },
     "execution_count": 21,
     "metadata": {},
     "output_type": "execute_result"
    }
   ],
   "source": [
    "np.sqrt(mean_c)"
   ]
  },
  {
   "cell_type": "code",
   "execution_count": 22,
   "metadata": {},
   "outputs": [
    {
     "data": {
      "text/plain": [
       "<matplotlib.axes._subplots.AxesSubplot at 0x115329e48>"
      ]
     },
     "execution_count": 22,
     "metadata": {},
     "output_type": "execute_result"
    },
    {
     "data": {
      "image/png": "[encoded data removed]",
      "text/plain": [
       "<Figure size 432x288 with 1 Axes>"
      ]
     },
     "metadata": {},
     "output_type": "display_data"
    }
   ],
   "source": [
    "kb_df[[\"y\",\"pot\"]].boxplot(by=\"pot\")"
   ]
  },
  {
   "cell_type": "code",
   "execution_count": 23,
   "metadata": {},
   "outputs": [],
   "source": [
    "model10_5 = \"\"\"\n",
    "data {\n",
    "  int<lower=0> N_sample;       // number of observations\n",
    "  int<lower=0> N_pot;          // number of pots\n",
    "  int<lower=0> N_sigma;        // number of sigmas\n",
    "  int<lower=0> Y[N_sample];    // number of seeds\n",
    "  int<lower=0> F[N_sample];    // fertilizer\n",
    "  int<lower=0> Pot[N_sample];  // pot\n",
    "}\n",
    "parameters {\n",
    "  real beta1;\n",
    "  real beta2;\n",
    "  real r[N_sample];\n",
    "  real rp[N_pot];\n",
    "  real<lower=0> sigma[N_sigma];\n",
    "}\n",
    "transformed parameters {\n",
    "  real<lower=0> lambda[N_sample];\n",
    "\n",
    "  for (i in 1:N_sample) {\n",
    "    lambda[i] <- exp(beta1 + beta2 * F[i] + r[i] + rp[Pot[i]]);\n",
    "  }\n",
    "}\n",
    "model {\n",
    "  for (i in 1:N_sample) {\n",
    "    Y[i] ~ poisson(lambda[i]);\n",
    "  }\n",
    "  beta1 ~ normal(0, 100);\n",
    "  beta2 ~ normal(0, 100);\n",
    "  r ~ normal(0, sigma[1]);\n",
    "  rp ~ normal(0, sigma[2]);\n",
    "  for (k in 1:N_sigma) {\n",
    "    sigma[k] ~ uniform(0, 1.0e+4);\n",
    "  }\n",
    "}\n",
    "\"\"\""
   ]
  },
  {
   "cell_type": "code",
   "execution_count": 24,
   "metadata": {},
   "outputs": [
    {
     "data": {
      "text/plain": [
       "0     0\n",
       "1     0\n",
       "2     0\n",
       "3     0\n",
       "4     0\n",
       "5     0\n",
       "6     0\n",
       "7     0\n",
       "8     0\n",
       "9     0\n",
       "10    0\n",
       "11    0\n",
       "12    0\n",
       "13    0\n",
       "14    0\n",
       "15    0\n",
       "16    0\n",
       "17    0\n",
       "18    0\n",
       "19    0\n",
       "20    0\n",
       "21    0\n",
       "22    0\n",
       "23    0\n",
       "24    0\n",
       "25    0\n",
       "26    0\n",
       "27    0\n",
       "28    0\n",
       "29    0\n",
       "     ..\n",
       "70    1\n",
       "71    1\n",
       "72    1\n",
       "73    1\n",
       "74    1\n",
       "75    1\n",
       "76    1\n",
       "77    1\n",
       "78    1\n",
       "79    1\n",
       "80    1\n",
       "81    1\n",
       "82    1\n",
       "83    1\n",
       "84    1\n",
       "85    1\n",
       "86    1\n",
       "87    1\n",
       "88    1\n",
       "89    1\n",
       "90    1\n",
       "91    1\n",
       "92    1\n",
       "93    1\n",
       "94    1\n",
       "95    1\n",
       "96    1\n",
       "97    1\n",
       "98    1\n",
       "99    1\n",
       "Length: 100, dtype: int8"
      ]
     },
     "execution_count": 24,
     "metadata": {},
     "output_type": "execute_result"
    }
   ],
   "source": [
    "kb_df.f.cat.codes"
   ]
  },
  {
   "cell_type": "code",
   "execution_count": 25,
   "metadata": {},
   "outputs": [],
   "source": [
    "y = kb_df.y\n",
    "N_sample = kb_df.shape[0]\n",
    "N_pot = kb_df.pot.drop_duplicates().shape[0]\n",
    "N_sigma = 2\n",
    "Y = kb_df.y\n",
    "# Stanではカテゴリは0で表してはいけないようなので、\n",
    "# 1足している。\n",
    "F = kb_df.f.cat.codes + 1\n",
    "Pot = kb_df.pot.cat.codes + 1\n",
    "\n",
    "# stanに辞書型でデータを引き渡す\n",
    "stan_data10_5 = {\"y\": y,\"N_sample\":N_sample,\"N_pot\":N_pot,\n",
    "             \"N_sigma\":N_sigma,\"Y\":Y,\"F\":F,\"Pot\":Pot}"
   ]
  },
  {
   "cell_type": "code",
   "execution_count": 26,
   "metadata": {},
   "outputs": [
    {
     "name": "stderr",
     "output_type": "stream",
     "text": [
      "INFO:pystan:COMPILING THE C++ CODE FOR MODEL anon_model_461608a512c06a4653e1650bcd1fbc55 NOW.\n"
     ]
    }
   ],
   "source": [
    "# MCMCサンプリングのステップ数\n",
    "iter_count= 1000\n",
    "\n",
    "# MCMCサンプリングの反復数の指定(WinBUGSではデフォルト3)\n",
    "chain_count = 3\n",
    "\n",
    "# MCMCサンプリングの最初の何ステップの結果を使わないとするか(burnin)\n",
    "warmup_count = 100\n",
    "\n",
    "# MCMCサンプリングのステップのうち、何個飛ばしでサンプリング結果を記録するか\n",
    "thin_count = 3\n",
    "\n",
    "fit10_5 = pystan.stan(model_code=model10_5,\n",
    "                  data=stan_data10_5,\n",
    "                  iter=iter_count,\n",
    "                  chains=chain_count,\n",
    "                  thin=thin_count,\n",
    "                  warmup=warmup_count)"
   ]
  },
  {
   "cell_type": "code",
   "execution_count": 27,
   "metadata": {},
   "outputs": [
    {
     "data": {
      "text/plain": [
       "Inference for Stan model: anon_model_461608a512c06a4653e1650bcd1fbc55.\n",
       "3 chains, each with iter=1000; warmup=100; thin=3; \n",
       "post-warmup draws per chain=300, total post-warmup draws=900.\n",
       "\n",
       "             mean se_mean     sd   2.5%    25%    50%    75%  97.5%  n_eff   Rhat\n",
       "beta1        2.27    0.05   1.19  -0.07   1.52   2.24   3.01    4.7    621    1.0\n",
       "beta2       -0.89    0.03   0.76  -2.38  -1.36  -0.86  -0.42   0.67    655    1.0\n",
       "r[0]        -0.05    0.02   0.49  -1.03  -0.38  -0.05   0.27   0.92    860    1.0\n",
       "r[1]        -0.61    0.02   0.58  -1.83  -0.98   -0.6  -0.22   0.47    900    1.0\n",
       "r[2]         1.09    0.01   0.42   0.26    0.8   1.07   1.37   1.93    882    1.0\n",
       "r[3]        -0.21    0.02   0.52  -1.27  -0.54   -0.2   0.14   0.79    890    1.0\n",
       "r[4]        -1.57    0.02   0.68   -3.0  -1.98  -1.54  -1.09  -0.33    900    1.0\n",
       "r[5]         1.11    0.01   0.41   0.29   0.83    1.1   1.41   1.89    900    1.0\n",
       "r[6]        -0.38    0.02   0.53   -1.5  -0.73  -0.39-7.4e-3   0.66    821    1.0\n",
       "r[7]         0.23    0.02   0.46  -0.68  -0.08   0.24   0.53   1.13    900    1.0\n",
       "r[8]         0.64    0.01   0.43  -0.19   0.35   0.63   0.92   1.52    900    1.0\n",
       "r[9]         0.24    0.01   0.45  -0.64  -0.07   0.25   0.53   1.14    900    1.0\n",
       "r[10]       -1.19    0.03   0.76   -2.9  -1.65  -1.19  -0.67   0.17    873    1.0\n",
       "r[11]       -0.73    0.02   0.68  -2.14  -1.15   -0.7  -0.24   0.55    900    1.0\n",
       "r[12]       -0.69    0.02    0.7  -2.18  -1.15  -0.66  -0.21   0.59    892    1.0\n",
       "r[13]        0.43    0.02    0.5  -0.59   0.11   0.45   0.75   1.37    839    1.0\n",
       "r[14]        0.75    0.02   0.48  -0.21   0.43   0.77   1.05   1.72    878    1.0\n",
       "r[15]        0.21    0.02   0.57  -0.94  -0.17   0.22   0.61   1.31    900    1.0\n",
       "r[16]        -1.2    0.02   0.74  -2.76  -1.66   -1.2  -0.68   0.17    889    1.0\n",
       "r[17]        0.21    0.02   0.54  -0.87  -0.13   0.23   0.59   1.21    846    1.0\n",
       "r[18]       -0.35    0.02   0.64  -1.69  -0.75  -0.29    0.1   0.75    900    1.0\n",
       "r[19]        2.01    0.01    0.4    1.2   1.75   2.01   2.26   2.78    743    1.0\n",
       "r[20]       -0.17    0.02   0.67   -1.5  -0.59  -0.14   0.29   1.01    900    1.0\n",
       "r[21]       -0.48    0.02   0.72  -1.98  -0.97  -0.47 6.6e-3   0.83    900    1.0\n",
       "r[22]         0.4    0.02   0.57  -0.74   0.04   0.41   0.78   1.53    809    1.0\n",
       "r[23]        0.13    0.02   0.61  -1.14  -0.28   0.18   0.56   1.29    900    1.0\n",
       "r[24]        0.42    0.02   0.57  -0.69   0.03   0.44   0.79   1.48    899    1.0\n",
       "r[25]       -1.04    0.03   0.85  -2.88  -1.58  -0.95  -0.47   0.49    900    1.0\n",
       "r[26]       -0.51    0.02   0.68   -1.9  -0.93  -0.49  -0.03   0.71    900    1.0\n",
       "r[27]       -0.54    0.02   0.71  -2.02   -1.0  -0.52  -0.06   0.75    900    1.0\n",
       "r[28]        0.18    0.02   0.56  -0.99  -0.19   0.19   0.59    1.2    894    1.0\n",
       "r[29]        0.79    0.02   0.52  -0.29   0.46   0.82   1.14   1.78    900    1.0\n",
       "r[30]        1.14    0.01   0.39   0.39   0.88   1.13    1.4   1.94    900    1.0\n",
       "r[31]       -0.85    0.02   0.53  -1.94  -1.17  -0.84  -0.52   0.19    877    1.0\n",
       "r[32]        1.22    0.01   0.39   0.48   0.97   1.21   1.49   2.02    887    1.0\n",
       "r[33]        0.67    0.01   0.42  -0.13   0.37   0.68   0.95   1.46    900    1.0\n",
       "r[34]       -1.41    0.02   0.61  -2.64  -1.81   -1.4  -1.03  -0.19    900    1.0\n",
       "r[35]        0.62    0.01    0.4  -0.17   0.34   0.62   0.87   1.43    900    1.0\n",
       "r[36]        0.62    0.01   0.41   -0.2   0.33   0.62   0.91   1.45    900    1.0\n",
       "r[37]       -0.33    0.02   0.48  -1.27  -0.64  -0.33-8.2e-3   0.57    900    1.0\n",
       "r[38]       -0.66    0.02   0.51  -1.75  -0.99  -0.65  -0.32   0.28    900    1.0\n",
       "r[39]       -0.05    0.01   0.45  -0.97  -0.33  -0.04   0.25   0.85    900    1.0\n",
       "r[40]        0.43    0.02   0.48  -0.55   0.13   0.43   0.76   1.37    701    1.0\n",
       "r[41]        1.45    0.01   0.41   0.66   1.17   1.44   1.73   2.26    900    1.0\n",
       "r[42]        0.72    0.02   0.48  -0.22    0.4   0.71   1.04   1.67    900    1.0\n",
       "r[43]       -0.17    0.02   0.55  -1.28  -0.53  -0.15    0.2    0.9    900    1.0\n",
       "r[44]       -0.42    0.02   0.63   -1.7  -0.83  -0.38   0.03   0.74    900    1.0\n",
       "r[45]        0.74    0.02   0.46  -0.16   0.43   0.73   1.06    1.7    825    1.0\n",
       "r[46]        0.08    0.02   0.54  -0.95  -0.27    0.1   0.42   1.19    900    1.0\n",
       "r[47]       -1.26    0.02   0.75  -2.86  -1.73  -1.22  -0.74   0.05    900    1.0\n",
       "r[48]       -1.25    0.02   0.69   -2.7  -1.72  -1.19  -0.77  -0.01    900    1.0\n",
       "r[49]       -0.46    0.02   0.62  -1.71  -0.85  -0.46  -0.03   0.74    900    1.0\n",
       "r[50]        0.62    0.02   0.72  -0.92   0.16   0.61    1.1   1.97    900    1.0\n",
       "r[51]        0.59    0.03   0.75  -0.91    0.1   0.61   1.13   2.01    900    1.0\n",
       "r[52]       -0.55    0.03    0.9  -2.45   -1.1   -0.5   0.07   1.09    900    1.0\n",
       "r[53]       -0.54    0.03   0.85  -2.23  -1.12  -0.54   0.06   1.15    900    1.0\n",
       "r[54]         0.1    0.03   0.83  -1.67  -0.45   0.14   0.68   1.63    900    1.0\n",
       "r[55]       -0.55    0.03   0.84  -2.23  -1.08  -0.54   0.06   0.96    888    1.0\n",
       "r[56]       -0.54    0.03   0.84  -2.22   -1.1   -0.5   0.03   1.06    900    1.0\n",
       "r[57]        0.08    0.03   0.78  -1.54  -0.42    0.1   0.62   1.56    900    1.0\n",
       "r[58]       -0.53    0.03   0.89  -2.29  -1.13  -0.54   0.11   1.14    837    1.0\n",
       "r[59]        0.11    0.03   0.84  -1.61  -0.44   0.15   0.69   1.62    900    1.0\n",
       "r[60]        1.09    0.02   0.44   0.24   0.79   1.07   1.37   2.03    785    1.0\n",
       "r[61]       -0.45    0.02   0.65  -1.72  -0.91  -0.41   0.02   0.72    900    1.0\n",
       "r[62]       -0.42    0.02   0.59  -1.66  -0.77  -0.39  -0.02   0.64    760    1.0\n",
       "r[63]         1.6    0.01   0.43    0.8   1.32    1.6   1.88   2.44    900    1.0\n",
       "r[64]       -0.16    0.02   0.57  -1.38  -0.53  -0.14   0.22    0.9    900    1.0\n",
       "r[65]        0.75    0.02   0.49  -0.22   0.44   0.75   1.08   1.76    900    1.0\n",
       "r[66]         0.6    0.02    0.5  -0.45   0.25   0.63   0.97   1.51    895    1.0\n",
       "r[67]       -0.12    0.02   0.57  -1.29  -0.52   -0.1   0.27   0.99    900    1.0\n",
       "r[68]        -0.8    0.02   0.68  -2.29  -1.22  -0.77  -0.33   0.44    900    1.0\n",
       "r[69]       -1.27    0.03   0.76  -2.82  -1.73  -1.22  -0.75    0.1    900    1.0\n",
       "r[70]        1.86    0.02   0.58    0.7   1.45   1.87   2.26   3.08    870    1.0\n",
       "r[71]       -0.66    0.03   0.88  -2.41  -1.25  -0.63  -0.06   0.95    900    1.0\n",
       "r[72]       -0.62    0.03   0.85  -2.44  -1.16   -0.6-1.1e-3   0.94    804    1.0\n",
       "r[73]        -0.6    0.03   0.87  -2.47  -1.14  -0.56-5.5e-3   0.97    873    1.0\n",
       "r[74]        0.04    0.03   0.75  -1.51  -0.45   0.11   0.55    1.4    900    1.0\n",
       "r[75]     -8.1e-3    0.03    0.8  -1.67  -0.52   0.07   0.56   1.38    900    1.0\n",
       "r[76]       -0.58    0.03   0.86  -2.42  -1.12  -0.54   0.04   0.99    900    1.0\n",
       "r[77]       -0.62    0.03   0.84  -2.35  -1.16   -0.6  -0.02    0.9    900    1.0\n",
       "r[78]        0.05    0.03   0.76  -1.42  -0.45   0.07   0.59   1.46    900    1.0\n",
       "r[79]        0.04    0.02   0.74  -1.58  -0.41   0.06   0.53   1.43    900    1.0\n",
       "r[80]         0.4    0.02   0.45  -0.43   0.09   0.41   0.71   1.25    830    1.0\n",
       "r[81]       -0.92    0.02   0.58  -2.11  -1.33  -0.87  -0.54   0.18    856    1.0\n",
       "r[82]        0.48    0.02   0.45  -0.39   0.21   0.49   0.78   1.36    826    1.0\n",
       "r[83]       -0.41    0.02   0.51  -1.44  -0.74  -0.41  -0.04   0.56    900    1.0\n",
       "r[84]       -0.65    0.02   0.56  -1.76  -0.99  -0.64  -0.27   0.41    900    1.0\n",
       "r[85]        0.85    0.01   0.41   0.04   0.58   0.84   1.13   1.66    900    1.0\n",
       "r[86]       -0.44    0.02   0.51  -1.48  -0.76  -0.43  -0.09   0.56    846    1.0\n",
       "r[87]        1.72    0.01   0.38   0.95   1.48   1.71   1.96   2.49    838    1.0\n",
       "r[88]       -0.23    0.02    0.5  -1.27  -0.53  -0.23   0.08   0.76    900    1.0\n",
       "r[89]        1.04    0.01   0.41   0.26   0.76   1.04    1.3   1.85    871    1.0\n",
       "r[90]        2.83    0.01   0.44   1.94   2.54   2.83   3.13    3.7    900    1.0\n",
       "r[91]       -0.31    0.02   0.73  -1.86  -0.76   -0.3   0.21   1.04    900    1.0\n",
       "r[92]       -0.29    0.02   0.71  -1.74  -0.77  -0.28   0.18    1.0    900    1.0\n",
       "r[93]        0.09    0.02   0.69  -1.38  -0.36   0.17   0.54    1.3    854    1.0\n",
       "r[94]       -0.85    0.03    0.8   -2.5  -1.39  -0.79  -0.25   0.49    900    1.0\n",
       "r[95]       -0.34    0.02   0.71  -1.98  -0.81  -0.32   0.14    1.0    897    1.0\n",
       "r[96]       -0.32    0.02   0.75  -1.89  -0.77  -0.33   0.19   1.09    900    1.0\n",
       "r[97]        0.16    0.02   0.65  -1.18  -0.25   0.15   0.61   1.39    860    1.0\n",
       "r[98]       -0.32    0.03   0.75  -1.96  -0.83  -0.31   0.18   1.18    900    1.0\n",
       "r[99]       -0.83    0.03   0.79  -2.58   -1.3  -0.81  -0.32   0.63    858    1.0\n",
       "rp[0]        0.38    0.02   0.59  -0.77  -0.02   0.39   0.76   1.61    768    1.0\n",
       "rp[1]       -0.35    0.02   0.58  -1.55  -0.69  -0.34   0.02   0.68    768    1.0\n",
       "rp[2]       -0.64    0.02   0.58  -1.81  -1.02  -0.61  -0.26   0.47    785    1.0\n",
       "rp[3]        0.71    0.02   0.57  -0.38   0.34   0.73   1.07   1.89    708    1.0\n",
       "rp[4]       -0.18    0.02    0.6  -1.47  -0.54  -0.17   0.22   1.03    671    1.0\n",
       "rp[5]       -0.99    0.02   0.66  -2.34  -1.38  -0.98  -0.55   0.24    740    1.0\n",
       "rp[6]        0.68    0.02    0.6   -0.4   0.31   0.66   1.03   1.93    895    1.0\n",
       "rp[7]       -0.79    0.03   0.65   -2.1  -1.22  -0.79  -0.37   0.49    655    1.0\n",
       "rp[8]        1.33    0.02   0.63    0.2    0.9    1.3   1.72   2.66    829    1.0\n",
       "rp[9]       -0.16    0.02    0.6  -1.33  -0.53  -0.17   0.23   1.11    900    1.0\n",
       "sigma[0]     1.03  4.2e-3   0.12   0.82   0.94   1.02   1.11   1.28    762    1.0\n",
       "sigma[1]     1.05    0.01   0.39   0.53   0.79   0.98   1.22   1.98    830    1.0\n",
       "lambda[0]    5.94    0.07    2.2   2.48   4.36   5.65   7.27  11.26    900    1.0\n",
       "lambda[1]    3.57    0.06   1.74   1.12   2.24   3.22   4.57   7.83    900    1.0\n",
       "lambda[2]    17.8    0.14    4.2  10.56   14.8  17.39  20.34  26.75    874    1.0\n",
       "lambda[3]    5.13    0.07   2.04   1.97    3.6   4.78    6.4   9.74    900    1.0\n",
       "lambda[4]    1.49    0.03   0.94   0.29    0.8   1.28   1.94   3.82    900    1.0\n",
       "lambda[5]   18.22    0.14   4.07  11.06  15.24   18.1  20.97  26.65    900    1.0\n",
       "lambda[6]    4.35    0.07   1.82    1.5   3.03   4.06   5.49   8.63    762    1.0\n",
       "lambda[7]     7.8    0.09   2.66   3.71   5.81   7.48   9.31  13.74    900    1.0\n",
       "lambda[8]   11.47    0.11   3.33   5.84   9.11  11.19   13.5   18.8    900    1.0\n",
       "lambda[9]     7.8    0.08   2.51   3.54   5.99   7.57   9.41  13.26    900    1.0\n",
       "lambda[10]   1.11    0.03   0.83   0.15   0.53   0.89   1.44   3.29    900    1.0\n",
       "lambda[11]   1.66    0.04   1.05   0.31    0.9   1.42    2.2   4.37    900    1.0\n",
       "lambda[12]   1.71    0.04   1.07   0.32   0.92   1.51   2.22   4.63    900    1.0\n",
       "lambda[13]   4.67    0.06   1.94   1.73   3.25   4.36   5.65   9.32    900    1.0\n",
       "lambda[14]   6.34    0.08   2.38   2.65   4.69   5.93   7.69  11.93    840    1.0\n",
       "lambda[15]   3.86    0.06   1.81    1.2   2.58   3.62   4.82   8.16    900    1.0\n",
       "lambda[16]   1.09    0.03   0.77   0.17   0.53   0.87    1.4   3.03    900    1.0\n",
       "lambda[17]   3.86    0.06   1.77   1.24   2.61   3.55   4.82   8.27    900    1.0\n",
       "lambda[18]   2.34    0.05   1.36   0.47   1.34   2.08    3.0   5.62    900    1.0\n",
       "lambda[19]  21.26    0.15    4.4  13.73  18.07  21.05  23.98  30.71    872    1.0\n",
       "lambda[20]   2.12    0.04   1.28    0.5    1.2   1.85   2.77   5.48    900    1.0\n",
       "lambda[21]    1.6    0.03   1.05   0.29   0.82   1.37   2.13   4.19    900    1.0\n",
       "lambda[22]   3.54    0.06   1.77   1.13   2.26   3.24   4.39   7.76    816    1.0\n",
       "lambda[23]   2.77    0.05   1.51   0.67   1.71   2.51   3.47   6.47    900    1.0\n",
       "lambda[24]   3.61    0.06   1.75   1.08   2.35   3.34    4.5    7.8    900    1.0\n",
       "lambda[25]   1.02    0.03   0.82   0.11   0.42   0.83   1.37   3.09    900    1.0\n",
       "lambda[26]   1.54    0.04    1.0   0.31   0.85    1.3   1.98    4.0    791    1.0\n",
       "lambda[27]   1.52    0.03   1.04   0.31   0.78   1.26    2.0   3.85    900    1.0\n",
       "lambda[28]   2.83    0.05    1.4   0.79    1.8   2.61   3.59   6.15    885   1.01\n",
       "lambda[29]   5.03    0.07   2.06   1.89   3.55   4.75   6.24    9.8    900    1.0\n",
       "lambda[30]  25.98    0.17   5.17  17.03  22.28  25.39  29.28  36.78    900    1.0\n",
       "lambda[31]   3.86    0.06   1.78   1.29   2.55   3.57   4.86   8.23    900    1.0\n",
       "lambda[32]  28.05    0.17   5.25  18.77  24.09  27.89  31.29  38.38    900    1.0\n",
       "lambda[33]  16.31    0.13   3.85   9.34  13.61  16.07  18.68  24.98    900    1.0\n",
       "lambda[34]   2.32    0.04   1.33   0.59   1.36   2.03   2.97   5.72    900    1.0\n",
       "lambda[35]  15.56    0.14   3.96   9.05  12.75  15.13  18.07  24.46    770    1.0\n",
       "lambda[36]  15.56    0.13   3.75    9.1  12.92  15.27   17.9  23.15    900    1.0\n",
       "lambda[37]   6.32    0.08   2.41    2.5   4.54   6.05   7.77  11.85    874    1.0\n",
       "lambda[38]   4.57    0.06    1.9   1.72   3.17   4.36   5.57   8.88    900    1.0\n",
       "lambda[39]   8.17    0.09   2.66   3.84   6.29   7.84   9.66   14.1    900    1.0\n",
       "lambda[40]    5.5    0.08   2.15   2.27    4.0   5.09   6.73  10.44    813    1.0\n",
       "lambda[41]  14.52    0.13   3.63   8.16  11.79  14.45  16.79  22.59    776    1.0\n",
       "lambda[42]   7.28    0.09   2.71   3.09   5.34   7.04   8.77   13.6    900    1.0\n",
       "lambda[43]   3.16    0.05   1.55    1.0   2.01   2.86   4.03   6.69    900    1.0\n",
       "lambda[44]   2.56    0.05   1.44   0.61   1.51   2.27   3.31   6.33    900    1.0\n",
       "lambda[45]   7.42    0.09   2.63   3.32    5.5   7.06   8.85  13.16    822    1.0\n",
       "lambda[46]   3.96    0.06   1.79   1.32   2.65   3.64   4.99   8.21    900    1.0\n",
       "lambda[47]   1.22    0.03   0.87   0.17   0.59   0.98   1.63   3.44    900    1.0\n",
       "lambda[48]   1.21    0.03   0.87   0.21   0.59   0.99   1.56   3.57    900    1.0\n",
       "lambda[49]   2.44    0.05   1.35   0.62   1.45   2.17   3.15   5.84    900    1.0\n",
       "lambda[50]   1.44    0.04   1.05   0.23   0.73    1.2   1.86   4.08    900    1.0\n",
       "lambda[51]   1.41    0.03   0.98   0.22   0.68   1.16   1.91   4.05    900    1.0\n",
       "lambda[52]   0.53    0.02   0.51   0.05   0.19   0.37    0.7   1.89    896    1.0\n",
       "lambda[53]   0.52    0.02   0.48   0.05    0.2   0.37   0.69   1.81    900    1.0\n",
       "lambda[54]   0.92    0.03   0.75    0.1   0.39   0.72   1.22   3.01    900    1.0\n",
       "lambda[55]    0.5    0.01   0.45   0.06    0.2   0.38   0.66   1.67    900    1.0\n",
       "lambda[56]   0.51    0.02   0.45   0.06    0.2   0.37   0.68   1.72    900    1.0\n",
       "lambda[57]   0.89    0.02   0.72   0.11   0.39    0.7   1.15   2.95    900    1.0\n",
       "lambda[58]   0.53    0.02   0.49   0.06   0.19   0.38   0.67   1.95    874    1.0\n",
       "lambda[59]   0.91    0.02   0.73   0.13   0.39   0.73   1.22   2.98    900    1.0\n",
       "lambda[60]   10.1    0.12    3.1   5.08   7.85   9.73  11.93  16.81    709    1.0\n",
       "lambda[61]   2.44    0.05   1.43   0.58    1.4   2.14   3.15   6.08    900    1.0\n",
       "lambda[62]   2.48    0.05   1.33   0.66   1.51   2.26   3.12    5.7    741    1.0\n",
       "lambda[63]  16.54    0.16   4.16   9.73  13.47  16.14  19.07   25.9    649    1.0\n",
       "lambda[64]   3.11    0.05    1.5   0.88   2.03   2.88   4.01   6.54    900    1.0\n",
       "lambda[65]   7.27    0.08   2.51   3.36   5.47    7.0   8.71  13.21    900    1.0\n",
       "lambda[66]   6.34    0.08   2.39   2.56    4.6   6.05   7.76   11.9    900    1.0\n",
       "lambda[67]   3.27    0.06   1.63   0.96   2.08   2.94   4.11   6.91    653    1.0\n",
       "lambda[68]   1.78    0.04   1.14   0.35    1.0   1.52   2.34   4.85    900    1.0\n",
       "lambda[69]   1.19    0.03   0.86   0.18   0.58   0.95   1.61   3.27    900    1.0\n",
       "lambda[70]   5.22    0.08    2.2   1.96    3.6   4.89   6.47   10.3    861    1.0\n",
       "lambda[71]   0.57    0.02   0.57   0.06    0.2    0.4   0.74   2.02    900    1.0\n",
       "lambda[72]   0.58    0.02   0.52   0.05   0.23   0.41   0.75   1.88    869    1.0\n",
       "lambda[73]   0.58    0.02   0.51   0.06   0.23   0.44   0.75   1.83    900    1.0\n",
       "lambda[74]   1.01    0.03   0.75   0.15   0.47   0.82   1.34    2.9    900    1.0\n",
       "lambda[75]   0.98    0.03   0.78   0.13   0.46   0.79   1.28   2.93    900    1.0\n",
       "lambda[76]   0.61    0.02   0.55   0.06   0.24   0.44    0.8   2.16    900    1.0\n",
       "lambda[77]   0.56    0.02   0.48   0.05   0.24   0.42   0.75   1.83    900    1.0\n",
       "lambda[78]   1.03    0.03   0.77   0.16   0.49   0.83   1.39   3.07    900    1.0\n",
       "lambda[79]   1.01    0.03   0.76   0.15   0.49   0.79   1.29    3.0    900    1.0\n",
       "lambda[80]   9.68     0.1   2.93   4.65   7.55   9.45  11.45  16.01    890    1.0\n",
       "lambda[81]   2.82    0.05   1.42   0.85   1.74   2.59   3.57    6.1    799    1.0\n",
       "lambda[82]  10.54     0.1    3.1   5.15   8.41  10.25  12.48  17.43    900    1.0\n",
       "lambda[83]   4.52    0.07   1.99   1.63    3.1   4.18   5.55   9.27    871    1.0\n",
       "lambda[84]   3.66    0.06   1.79   1.19   2.36   3.31   4.61   8.19    853    1.0\n",
       "lambda[85]  14.97    0.12   3.58    8.8  12.39  14.82  17.11  23.04    900    1.0\n",
       "lambda[86]   4.38    0.06   1.86   1.61   2.98   4.11    5.4   8.88    900    1.0\n",
       "lambda[87]  35.14    0.22   5.95  25.08  31.01  34.73  38.75  48.44    713    1.0\n",
       "lambda[88]   5.31    0.07    2.1   2.07   3.85   4.95   6.45  10.65    900    1.0\n",
       "lambda[89]  18.04    0.16   4.24  11.09  14.95  17.52   20.9  27.22    674    1.0\n",
       "lambda[90]  24.26    0.16   4.82  16.14  20.83  23.85  27.28  35.57    900    1.0\n",
       "lambda[91]   1.33    0.03   0.97   0.22   0.62    1.1   1.77   3.66    900    1.0\n",
       "lambda[92]   1.32    0.03   0.92   0.24   0.67   1.09   1.75   3.78    900    1.0\n",
       "lambda[93]   1.84    0.04   1.09   0.39   1.03   1.67   2.38    4.6    900    1.0\n",
       "lambda[94]   0.81    0.02   0.65   0.11   0.35   0.63   1.08   2.42    900    1.0\n",
       "lambda[95]   1.26    0.03    0.9   0.19   0.65   1.05    1.6   3.48    900    1.0\n",
       "lambda[96]    1.3    0.03   0.95   0.18   0.66   1.03   1.67   3.86    900    1.0\n",
       "lambda[97]   1.95    0.04   1.16   0.41   1.13    1.7   2.49   4.71    900    1.0\n",
       "lambda[98]    1.3    0.03   0.97   0.19   0.65   1.05   1.69   3.87    900    1.0\n",
       "lambda[99]   0.82    0.02   0.65    0.1   0.38   0.63    1.1    2.7    900    1.0\n",
       "lp__       673.01    0.38   9.44 653.75 667.18 673.54  679.3 690.42    621    1.0\n",
       "\n",
       "Samples were drawn using NUTS at Wed Apr  4 11:16:45 2018.\n",
       "For each parameter, n_eff is a crude measure of effective sample size,\n",
       "and Rhat is the potential scale reduction factor on split chains (at \n",
       "convergence, Rhat=1)."
      ]
     },
     "execution_count": 27,
     "metadata": {},
     "output_type": "execute_result"
    }
   ],
   "source": [
    "fit10_5"
   ]
  },
  {
   "cell_type": "code",
   "execution_count": 28,
   "metadata": {},
   "outputs": [
    {
     "data": {
      "image/png": "[encoded data removed]",
      "text/plain": [
       "<Figure size 432x288 with 12 Axes>"
      ]
     },
     "metadata": {},
     "output_type": "display_data"
    }
   ],
   "source": [
    "fit10_5.plot()\n",
    "plt.show()"
   ]
  },
  {
   "cell_type": "code",
   "execution_count": null,
   "metadata": {},
   "outputs": [],
   "source": []
  }
 ],
 "metadata": {
  "kernelspec": {
   "display_name": "Python 3",
   "language": "python",
   "name": "python3"
  },
  "language_info": {
   "codemirror_mode": {
    "name": "ipython",
    "version": 3
   },
   "file_extension": ".py",
   "mimetype": "text/x-python",
   "name": "python",
   "nbconvert_exporter": "python",
   "pygments_lexer": "ipython3",
   "version": "3.5.2"
  }
 },
 "nbformat": 4,
 "nbformat_minor": 2
}
